{
  "nbformat": 4,
  "nbformat_minor": 0,
  "metadata": {
    "colab": {
      "provenance": [],
      "authorship_tag": "ABX9TyO/YeeIVM62KeoBBCn9BhTH",
      "include_colab_link": true
    },
    "kernelspec": {
      "name": "python3",
      "display_name": "Python 3"
    },
    "language_info": {
      "name": "python"
    }
  },
  "cells": [
    {
      "cell_type": "markdown",
      "metadata": {
        "id": "view-in-github",
        "colab_type": "text"
      },
      "source": [
        "<a href=\"https://colab.research.google.com/github/pichuu12/All-projects-and-Internship-tasks/blob/main/food_classification_project/Food_Classification_Project.ipynb\" target=\"_parent\"><img src=\"https://colab.research.google.com/assets/colab-badge.svg\" alt=\"Open In Colab\"/></a>"
      ]
    },
    {
      "cell_type": "markdown",
      "source": [
        "# FOOD CLASSIFICATION - 101 categories\n",
        "\n",
        "\n",
        "*   The goal of the project is to beat the DeepFood paper published in 2016 which categorizes 101 food categories with an accuracy of 77.4%\n",
        "\n",
        "Dataset - Github Link\n"
      ],
      "metadata": {
        "id": "EIFbX9zvtuoq"
      }
    },
    {
      "cell_type": "markdown",
      "source": [
        "## Training and Testing Model with only 10% of original dataset"
      ],
      "metadata": {
        "id": "yR0J_iFrt3b0"
      }
    },
    {
      "cell_type": "code",
      "source": [],
      "metadata": {
        "id": "Zyd9Qlfct_sl"
      },
      "execution_count": null,
      "outputs": []
    }
  ]
}